{
 "cells": [
  {
   "cell_type": "markdown",
   "id": "e3b622ac-bb42-4503-92d2-e0807de78701",
   "metadata": {},
   "source": [
    "# 2024-02: Deaths from Wars & Cars"
   ]
  },
  {
   "cell_type": "code",
   "execution_count": null,
   "id": "906b2496-bf9d-485d-9f20-cd97267ee798",
   "metadata": {},
   "outputs": [],
   "source": [
    "import matplotlib.pyplot as plt"
   ]
  },
  {
   "cell_type": "code",
   "execution_count": null,
   "id": "8d87bd3a-13b2-4350-a6da-81e7ffa6ba7a",
   "metadata": {},
   "outputs": [],
   "source": [
    "deaths = {\"WW2\": 78, \"Cars\": 72, \"Mongols\": 39, \"Taiping\": 25, \"Ming-Qing\": 25, \"2nd CN-JP\": 20, \"WW1\": 19}\n",
    "deaths2 = {\"WW2\": 0, \"Cars\": 72, \"Mongols\": 0, \"Taiping\": 0, \"Ming-Qing\": 0, \"2nd CN-JP\": 0, \"WW1\": 0}"
   ]
  },
  {
   "cell_type": "code",
   "execution_count": null,
   "id": "c96cfa65-00e2-4e2e-80c2-3c8039050fc8",
   "metadata": {},
   "outputs": [],
   "source": [
    "fig = plt.figure(figsize=(6, 3))\n",
    "ax = fig.add_axes([0.08, 0.16, 0.8, 0.75])\n",
    "ax.bar(\n",
    "         range(len(deaths.values())),\n",
    "         deaths.values(),\n",
    "         color=\"#660000\",\n",
    "         tick_label=list(deaths.keys())\n",
    ")\n",
    "ax.bar(\n",
    "         range(len(deaths2.values())),\n",
    "         deaths2.values(),\n",
    "         color=\"#000000\",\n",
    "         tick_label=list(deaths2.keys())\n",
    ")\n",
    "ax.tick_params(axis='x', labelrotation=60)\n",
    "ax.spines['top'].set_visible(False)\n",
    "ax.spines['right'].set_visible(False)\n",
    "ax.spines['left'].set_visible(False)\n",
    "ax.get_xaxis().set_ticks([])\n",
    "ax.get_yaxis().set_ticks([])\n",
    "fig.savefig(\"deaths\", dpi=300);"
   ]
  }
 ],
 "metadata": {
  "kernelspec": {
   "display_name": "Python 3 (ipykernel)",
   "language": "python",
   "name": "python3"
  },
  "language_info": {
   "codemirror_mode": {
    "name": "ipython",
    "version": 3
   },
   "file_extension": ".py",
   "mimetype": "text/x-python",
   "name": "python",
   "nbconvert_exporter": "python",
   "pygments_lexer": "ipython3",
   "version": "3.10.13"
  }
 },
 "nbformat": 4,
 "nbformat_minor": 5
}
